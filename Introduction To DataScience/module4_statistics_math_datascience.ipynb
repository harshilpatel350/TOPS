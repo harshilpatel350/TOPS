{
 "cells": [
  {
   "cell_type": "markdown",
   "id": "5af51e7c",
   "metadata": {},
   "source": [
    "# Module 4: Essential Statistics & Mathematics for Data Science"
   ]
  },
  {
   "cell_type": "markdown",
   "id": "f1631c64",
   "metadata": {},
   "source": [
    "> ##  Theoretical Assignment:"
   ]
  },
  {
   "cell_type": "markdown",
   "id": "d90d2f58",
   "metadata": {},
   "source": [
    "### 1. Explain Key Statistical Concepts\n",
    "\n",
    "- Mean:\n",
    "The mean is calculated by summing all values in a dataset and dividing by the total number of values. It provides a single value that represents the central tendency of the dataset. However, it can be heavily impacted by outliers or extreme values.\n",
    "\n",
    "- Median:\n",
    "The median is the middle value in a dataset that has been ordered from least to greatest. It represents the midpoint and is not easily affected by outliers, making it useful for skewed data.\n",
    "\n",
    "- Mode:\n",
    "The mode is the value that appears most frequently in a dataset. It indicates the most common value and is especially useful for categorical or discrete data.\n",
    "\n",
    "- Range:\n",
    "The range is the difference between the largest and smallest values in a dataset. It shows the total spread or variability of the data.\n",
    "\n",
    "- Variance:\n",
    "Variance measures the average squared deviation of each data point from the mean. It quantifies how much the data points differ from the average value.\n",
    "\n",
    "- Standard Deviation:\n",
    "Standard deviation is the square root of the variance. It shows how much the values in a dataset typically deviate from the mean, using the same units as the original data.\n",
    "\n",
    "- Interquartile Range (IQR):\n",
    "IQR is the difference between the third quartile (Q3) and the first quartile (Q1). It measures the spread of the middle 50% of the data and is less affected by outliers than the range.\n",
    "\n",
    "- Skewness:\n",
    "Skewness measures the asymmetry of a data distribution. It indicates whether data is spread more to the left or right of the mean.\n",
    "\n",
    "- Kurtosis:\n",
    "Kurtosis measures the \"tailedness\" of a distribution. It shows whether the data have heavier or lighter tails than a normal distribution, indicating the presence or absence of outliers.\n",
    "\n",
    "- Percentage:\n",
    "A percentage expresses a part of a whole as a fraction of 100. It is used to represent proportions and compare values in a standardized way.\n",
    "\n",
    "- Percentile:\n",
    "A percentile is the value below which a given percentage of data points fall. It shows the relative standing of a value within a dataset."
   ]
  },
  {
   "cell_type": "markdown",
   "id": "b0e0afbc",
   "metadata": {},
   "source": [
    "> ##  Practical Tasks"
   ]
  },
  {
   "cell_type": "markdown",
   "id": "be0c2397",
   "metadata": {},
   "source": [
    "1. Business Problem: A car rental company wants to analyze the rental durations of its customers to understand the typical rental period and optimize its pricing and fleet management strategies. \n",
    "\n",
    "Data: Let's consider the rental durations (in days) for a sample of 50 customers:\n",
    "\n",
    "3, 2, 5, 4, 7, 2, 3, 3, 1, 6, 4, 2, 3, 5, 2, 4, 2, 1, 3, 5, 6, 3, 2, 1, 4, 2, 4, 5, 3, 2, 7, 2, 3, 4, 5, 1, 6, 2, 4, 3, 5, 3, 2, 4, 2, 6, 3, 2, 4, 5\n",
    "\n",
    "Questions:\n",
    "- Mean: What is the average rental duration for customers at the car rental company ?\n",
    "- Median: What is the typical or central rental duration experienced by customers ?\n",
    "- Mode: Are there any recurring or most frequently occurring rental durations for customers ?\n",
    "\n",
    "By answering these questions using the mean, median, and mode, the car rental company can gain insights into the average rental duration, understand the most common rental periods, and make informed decisions regarding pricing, fleet size, and availability. Additionally, this analysis can help the company optimize resource allocation, plan for peak demand periods, and enhance customer satisfaction by aligning service offerings with customers' typical rental needs."
   ]
  },
  {
   "cell_type": "code",
   "execution_count": 1,
   "id": "54f4c51d",
   "metadata": {},
   "outputs": [
    {
     "name": "stdout",
     "output_type": "stream",
     "text": [
      "Mean is 3.44\n",
      "Median is 3.0\n",
      "Mode is 2 and have repeated 13 times.\n"
     ]
    }
   ],
   "source": [
    "import numpy as np\n",
    "data=np.array([3, 2, 5, 4, 7, 2, 3, 3, 1, 6, 4, 2, 3, 5, 2, 4, 2, 1, 3, 5, 6, 3, 2, 1, 4, 2, 4, 5, 3, 2, 7, 2, 3, 4, 5, 1, 6, 2, 4, 3, 5, 3, 2, 4, 2, 6, 3, 2, 4, 5])\n",
    "print(f\"Mean is {np.mean(data)}\")\n",
    "print(f\"Median is {np.median(data)}\")\n",
    "mode=np.unique(data,return_counts=True)\n",
    "val=mode[0]\n",
    "count=mode[1]\n",
    "mode_val=val[np.argmax(count)]\n",
    "mode_count=count[np.argmax(count)]\n",
    "print(f\"Mode is {mode_val} and have repeated {mode_count} times.\")"
   ]
  },
  {
   "cell_type": "markdown",
   "id": "3a0cdaf9",
   "metadata": {},
   "source": [
    "2. An e-commerce platform wants to analyze the delivery times of its shipments to understand the variability in order fulfillment and optimize its logistics operations.\n",
    " \n",
    "Data: Let's consider the delivery times (in days) for a sample of 50 shipments:\n",
    " \n",
    "3, 5, 2, 4, 6, 2, 3, 4, 2, 5, 7, 2, 3, 4, 2, 4, 2, 3, 5, 6, 3, 2, 1, 4, 2, 4, 5, 3, 2, 7, 2, 3, 4, 5, 1, 6, 2, 4, 3, 5, 3, 2, 4, 2, 6, 3, 2, 4, 5, 3\n",
    "\n",
    "Questions:\n",
    "\n",
    "- Range: What is the range of the delivery times ?\n",
    "- Variance: What is the variance of the delivery times ?\n",
    "- Standard Deviation: What is the standard deviation of the delivery times ? \n",
    " \n",
    "By answering these questions using different measures of dispersion, the e-commerce platform can gain insights into the variability in delivery times, identify any bottlenecks in the logistics process, and make informed decisions regarding shipment tracking, customer expectations, and service level agreements."
   ]
  },
  {
   "cell_type": "code",
   "execution_count": 2,
   "id": "0d7a575b",
   "metadata": {},
   "outputs": [
    {
     "name": "stdout",
     "output_type": "stream",
     "text": [
      "Range is 6\n",
      "Variance is 2.2896\n",
      "Standard Deviation is 1.513142425550219\n"
     ]
    }
   ],
   "source": [
    "data=np.array([3, 5, 2, 4, 6, 2, 3, 4, 2, 5, 7, 2, 3, 4, 2, 4, 2, 3, 5, 6, 3, 2, 1, 4, 2, 4, 5, 3, 2, 7, 2, 3, 4, 5, 1, 6, 2, 4, 3, 5, 3, 2, 4, 2, 6, 3, 2, 4, 5, 3])\n",
    "print(f\"Range is {np.max(data)-np.min(data)}\")\n",
    "print(f\"Variance is {np.var(data)}\")\n",
    "print(f\"Standard Deviation is {np.std(data)}\")"
   ]
  },
  {
   "cell_type": "markdown",
   "id": "7209668a",
   "metadata": {},
   "source": [
    "3. A company wants to analyze the monthly revenue generated by one of its products to understand its performance and variability.\n",
    "\n",
    "Data: Let's consider the monthly revenue (in thousands of dollars) for the past 12 months:\n",
    "\n",
    "$120, $150, $110, $135, $125, $140, $130, $155, $115, $145, $135, $130\n",
    "\n",
    "Questions:\n",
    "\n",
    "- Measure of Central Tendency: What is the average monthly revenue for the product ?\n",
    "- Measure of Dispersion: What is the range of monthly revenue for the product ?\n",
    " \n",
    "By answering these questions, the company can gain insights into the average revenue generated by the product and understand the range or variability in its monthly revenue, which can help with financial planning, forecasting, and evaluating the product's performance."
   ]
  },
  {
   "cell_type": "code",
   "execution_count": 3,
   "id": "f94a47df",
   "metadata": {},
   "outputs": [
    {
     "name": "stdout",
     "output_type": "stream",
     "text": [
      "Average monthly revenue for the product is $132.5\n",
      "Range of monthly revenue for product is $45\n"
     ]
    }
   ],
   "source": [
    "data=np.array([120, 150, 110, 135, 125, 140, 130, 155, 115, 145, 135, 130])\n",
    "print(f\"Average monthly revenue for the product is ${np.mean(data)}\")\n",
    "print(f\"Range of monthly revenue for product is ${np.max(data)-np.min(data)}\")"
   ]
  },
  {
   "cell_type": "markdown",
   "id": "3e79c2f3",
   "metadata": {},
   "source": [
    "4. A transportation company wants to analyze the fuel efficiency of its vehicle fleet to identify any variations across different vehicle models.\n",
    "\n",
    "Data: Let's consider the fuel efficiency (in miles per gallon, mpg) for a sample of 50 vehicles:\n",
    "\n",
    "- Model A: 30, 32, 33, 28, 31, 30, 29, 30, 32, 31\n",
    "- Model B: 25, 27, 26, 23, 28, 24, 26, 25, 27, 28\n",
    "- Model C: 22, 23, 20, 25, 21, 24, 23, 22, 25, 24\n",
    "- Model D: 18, 17, 19, 20, 21, 18, 19, 17, 20, 19\n",
    "- Model E: 35, 36, 34, 35, 33, 34, 32, 33, 36, 34\n",
    "\n",
    "Questions:\n",
    "\n",
    "- Measure of Central Tendency: What is the average fuel efficiency for each vehicle model ?\n",
    "- Measure of Dispersion: What is the range of fuel efficiency for each vehicle model ?\n",
    "- Measure of Dispersion: What is the variance of the fuel efficiency for each vehicle model ?\n",
    "\n",
    "By answering these questions, the transportation company can gain insights into the average fuel efficiency of different vehicle models, understand the variations or spread in the fuel efficiency, and make informed decisions regarding fleet management, vehicle selection, and fuel consumption optimization."
   ]
  },
  {
   "cell_type": "code",
   "execution_count": 4,
   "id": "393bf754",
   "metadata": {},
   "outputs": [
    {
     "name": "stdout",
     "output_type": "stream",
     "text": [
      "Model A\n",
      "Average fuel efficiency for Model A is 30.6\n",
      "Range of fuel efficiency for Model A is 5\n",
      "Variance of the fuel efficiency for Model A is 2.0400000000000005\n",
      "----------\n",
      "Model B\n",
      "Average fuel efficiency for Model B is 25.9\n",
      "Range of fuel efficiency for Model B is 5\n",
      "Variance of the fuel efficiency for Model B is 2.49\n",
      "----------\n",
      "Model C\n",
      "Average fuel efficiency for Model C is 22.9\n",
      "Range of fuel efficiency for Model C is 5\n",
      "Variance of the fuel efficiency for Model C is 2.4899999999999998\n",
      "----------\n",
      "Model D\n",
      "Average fuel efficiency for Model D is 18.8\n",
      "Range of fuel efficiency for Model D is 4\n",
      "Variance of the fuel efficiency for Model D is 1.56\n",
      "----------\n",
      "Model E\n",
      "Average fuel efficiency for Model E is 34.2\n",
      "Range of fuel efficiency for Model E is 4\n",
      "Variance of the fuel efficiency for Model E is 1.5599999999999998\n"
     ]
    }
   ],
   "source": [
    "print(\"Model A\")\n",
    "data_A=np.array([30, 32, 33, 28, 31, 30, 29, 30, 32, 31])\n",
    "print(f\"Average fuel efficiency for Model A is {np.mean(data_A)}\")\n",
    "print(f\"Range of fuel efficiency for Model A is {np.max(data_A)-np.min(data_A)}\")\n",
    "print(f\"Variance of the fuel efficiency for Model A is {np.var(data_A)}\")\n",
    "print(\"----------\")\n",
    "print(\"Model B\")\n",
    "data_B=np.array([25, 27, 26, 23, 28, 24, 26, 25, 27, 28])\n",
    "print(f\"Average fuel efficiency for Model B is {np.mean(data_B)}\")\n",
    "print(f\"Range of fuel efficiency for Model B is {np.max(data_B)-np.min(data_B)}\")\n",
    "print(f\"Variance of the fuel efficiency for Model B is {np.var(data_B)}\")\n",
    "print(\"----------\")\n",
    "print(\"Model C\")\n",
    "data_C=np.array([22, 23, 20, 25, 21, 24, 23, 22, 25, 24])\n",
    "print(f\"Average fuel efficiency for Model C is {np.mean(data_C)}\")\n",
    "print(f\"Range of fuel efficiency for Model C is {np.max(data_C)-np.min(data_C)}\")\n",
    "print(f\"Variance of the fuel efficiency for Model C is {np.var(data_C)}\")\n",
    "print(\"----------\")\n",
    "print(\"Model D\")\n",
    "data_D=np.array([18, 17, 19, 20, 21, 18, 19, 17, 20, 19])\n",
    "print(f\"Average fuel efficiency for Model D is {np.mean(data_D)}\")\n",
    "print(f\"Range of fuel efficiency for Model D is {np.max(data_D)-np.min(data_D)}\")\n",
    "print(f\"Variance of the fuel efficiency for Model D is {np.var(data_D)}\")\n",
    "print(\"----------\")\n",
    "print(\"Model E\")\n",
    "data_E=np.array([35, 36, 34, 35, 33, 34, 32, 33, 36, 34])\n",
    "print(f\"Average fuel efficiency for Model E is {np.mean(data_E)}\")\n",
    "print(f\"Range of fuel efficiency for Model E is {np.max(data_E)-np.min(data_E)}\")\n",
    "print(f\"Variance of the fuel efficiency for Model E is {np.var(data_E)}\")"
   ]
  },
  {
   "cell_type": "markdown",
   "id": "25d74336",
   "metadata": {},
   "source": [
    "5. A manufacturing company wants to analyze the defect rates of its production line to identify the frequency of different types of defects.\n",
    "\n",
    "Data: Let's consider the types of defects and their corresponding frequencies observed in a sample of 200 products:\n",
    "\n",
    "- Defect Type: A, B, C, D, E, F, G\n",
    "- Frequency: 30, 40, 20, 10, 45, 25, 30\n",
    "\n",
    "Questions:\n",
    "\n",
    "- Bar Chart: Create a bar chart to visualize the frequency of different defect types.\n",
    "- Most Common Defect: Which defect type has the highest frequency ?\n",
    "- Histogram: Create a histogram to represent the defect frequencies.\n",
    " \n",
    "By answering these questions using a bar chart and histogram, the manufacturing company can visually understand the distribution of defect types, identify the most common defect, and prioritize quality control efforts to address the prevalent issues."
   ]
  },
  {
   "cell_type": "code",
   "execution_count": 5,
   "id": "4718d992",
   "metadata": {},
   "outputs": [
    {
     "data": {
      "image/png": "[encoded data removed]",
      "text/plain": [
       "<Figure size 640x480 with 1 Axes>"
      ]
     },
     "metadata": {},
     "output_type": "display_data"
    },
    {
     "name": "stdout",
     "output_type": "stream",
     "text": [
      "Most Common Defect: E\n"
     ]
    },
    {
     "data": {
      "image/png": "[encoded data removed]",
      "text/plain": [
       "<Figure size 640x480 with 1 Axes>"
      ]
     },
     "metadata": {},
     "output_type": "display_data"
    }
   ],
   "source": [
    "import matplotlib.pyplot as plt\n",
    "import numpy as np\n",
    "\n",
    "defects = ['A','B','C','D','E','F','G']\n",
    "frequency = [30,40,20,10,45,25,30]\n",
    "\n",
    "plt.bar(defects, frequency, color='skyblue')\n",
    "plt.xlabel('Defect Type')\n",
    "plt.ylabel('Frequency')\n",
    "plt.title('Frequency of Defect Types')\n",
    "plt.show()\n",
    "\n",
    "most_common_index = np.argmax(frequency)\n",
    "print(\"Most Common Defect:\", defects[most_common_index])\n",
    "\n",
    "plt.hist(frequency, bins=5, color='lightgreen', edgecolor='black')\n",
    "plt.xlabel('Frequency')\n",
    "plt.ylabel('Count of Defect Types')\n",
    "plt.title('Histogram of Defect Frequencies')\n",
    "plt.show()"
   ]
  },
  {
   "cell_type": "markdown",
   "id": "4c277924",
   "metadata": {},
   "source": [
    "6. A survey was conducted to analyze the satisfaction ratings of customers on a scale of 1 to 5 for a specific product.\n",
    "\n",
    "Data: Let's consider the satisfaction ratings from 200 customers:\n",
    "\n",
    "Ratings:\n",
    "\n",
    "4, 5, 3, 4, 4, 3, 2, 5, 4, 3, 5, 4, 2, 3, 4, 5, 3, 4, 5, 3, 4, 3, 2, 4, 5, 3, 4, 5, 4, 3, 3, 4, 5, 2, 3, 4, 4, 3, 5, 4, 3, 4, 5, 4, 2, 3, 4, 5, 3, 4, 5, 4, 3, 4, 5, 3, 4, 5, 4, 3, 3, 4, 5, 2, 3, 4, 4, 3, 5, 4, 3, 4, 5, 4, 2, 3, 4, 5, 3, 4, 5, 4, 3, 4, 5, 3, 4, 5, 4, 3, 3, 4, 5, 2, 3, 4, 4, 3, 5, 4\n",
    "\n",
    "Questions:\n",
    "\n",
    "- Skewness: Calculate the skewness of the satisfaction ratings.\n",
    "- Kurtosis: Calculate the kurtosis of the satisfaction ratings.\n",
    "- Interpretation: Based on the skewness and kurtosis values, what can be inferred about the satisfaction ratings distribution? \n",
    "\n",
    "By answering these questions using measures of skewness and kurtosis, the survey can assess the skewness and peakedness of the satisfaction ratings, determine if the ratings are skewed towards positive or negative evaluations, and understand the distribution characteristics of customer satisfaction."
   ]
  },
  {
   "cell_type": "code",
   "execution_count": 6,
   "id": "fb74500b",
   "metadata": {},
   "outputs": [
    {
     "name": "stdout",
     "output_type": "stream",
     "text": [
      "Skewness: -0.20773281879682218\n",
      "Kurtosis: -0.767917404014467\n"
     ]
    }
   ],
   "source": [
    "from scipy.stats import skew, kurtosis\n",
    "\n",
    "ratings = [4,5,3,4,4,3,2,5,4,3,5,4,2,3,4,5,3,4,5,3,4,3,2,4,5,3,4,5,4,3,3,4,5,2,3,4,4,3,5,4,3,4,5,4,2,3,4,5,3,4,5,4,3,4,5,3,4,5,4,3,3,4,5,2,3,4,4,3,5,4,3,4,5,4,2,3,4,5,3,4,5,4,3,4,5,3,4,5,4,3,3,4,5,2,3,4,4,3,5,4]\n",
    "\n",
    "print(\"Skewness:\", skew(ratings))\n",
    "\n",
    "print(\"Kurtosis:\", kurtosis(ratings))"
   ]
  },
  {
   "cell_type": "markdown",
   "id": "94fdc2dc",
   "metadata": {},
   "source": [
    "7. A research study wants to analyze the weight distribution of a sample of individuals to assess their health and body composition.\n",
    "\n",
    "Data: Let's consider the weights (in kilograms) of a sample of 100 individuals:\n",
    "\n",
    "Weights:\n",
    "\n",
    "55, 60, 62, 65, 68, 70, 72, 75, 78, 80, 82, 85, 88, 90, 92, 95, 100, 105, 110, 115, 120, 125, 130, 135, 140, 145, 150, 155, 160, 165, 170, 175, 180, 185, 190, 195, 200, 205, 210, 215, 220, 225, 230, 235, 240, 245, 250, 255, 260, 265, 270, 275, 280, 285, 290, 295, 300, 305, 310, 315, 320, 325, 330, 335, 340, 345, 350, 355, 360, 365, 370, 375, 380, 385, 390, 395, 400, 405, 410, 415, 420, 425, 430, 435, 440, 445, 450, 455, 460, 465, 470, 475, 480, 485, 490, 495, 500, 505, 510, 515\n",
    "\n",
    "Questions:\n",
    "\n",
    "- Quartiles: Calculate the first quartile (Q1), median (Q2), and third quartile (Q3) of the weight distribution.\n",
    "- Percentiles: Calculate the 15th percentile, 50th percentile, and 85th percentile of the weight distribution.\n",
    "- Interpretation: Based on the quartiles and percentiles, what can be inferred about the weight distribution of the individuals?\n",
    "\n",
    "By answering these questions using quartiles and percentiles, the research study can understand the weight distribution and identify the weight ranges at different percentiles, such as underweight, normal weight, overweight, and obese categories."
   ]
  },
  {
   "cell_type": "code",
   "execution_count": 7,
   "id": "b18a299b",
   "metadata": {},
   "outputs": [
    {
     "name": "stdout",
     "output_type": "stream",
     "text": [
      "Quartiles: Q1 = 170.0 , Median = 285.0 , Q3 = 400.0\n",
      "Percentiles: 15th = 124.0 , 50th = 285.0 , 85th = 446.0\n"
     ]
    }
   ],
   "source": [
    "import numpy as np\n",
    "\n",
    "weights = np.arange(55, 520, 5)[:100]\n",
    "\n",
    "Q1 = np.percentile(weights, 25)\n",
    "Q2 = np.median(weights)\n",
    "Q3 = np.percentile(weights, 75)\n",
    "print(\"Quartiles: Q1 =\", Q1, \", Median =\", Q2, \", Q3 =\", Q3)\n",
    "\n",
    "p15 = np.percentile(weights, 15)\n",
    "p50 = np.percentile(weights, 50)\n",
    "p85 = np.percentile(weights, 85)\n",
    "print(\"Percentiles: 15th =\", p15, \", 50th =\", p50, \", 85th =\", p85)"
   ]
  },
  {
   "cell_type": "markdown",
   "id": "ae2ad919",
   "metadata": {},
   "source": [
    "8. A researcher wants to examine the relationship between the hours spent studying and the exam scores of a group of students.\n",
    "\n",
    "Data: Let's consider the number of hours spent studying and the corresponding exam scores for a sample of 30 students:\n",
    "\n",
    "Hours Spent Studying: \n",
    "\n",
    "10, 12, 15, 18, 20, 22, 25, 28, 30, 32, 35, 38, 40, 42, 45, 48, 50, 52, 55, 58, 60, 62, 65, 68, 70, 72, 75, 78, 80, 82 Exam Scores: 60, 65, 70, 75, 80, 82, 85, 88, 90, 92, 93, 95, 96, 97, 98, 99, 100, 102, 105, 106, 107, 108, 110, 112, 114, 115, 116, 118, 120, 122\n",
    "\n",
    "Question:\n",
    "\n",
    "- Calculate the correlation coefficient between the hours spent studying and the exam scores. \n",
    "- Interpret the value of the correlation coefficient and explain the nature of the relationship between studying hours and exam scores.\n",
    " \n",
    "By analyzing the correlation coefficient, the researcher can determine the strength and direction of the relationship between studying hours and exam scores. This information can provide insights into the effectiveness of studying and help students and educators make informed decisions about study habits and academic performance."
   ]
  },
  {
   "cell_type": "code",
   "execution_count": 8,
   "id": "c40eb8f3",
   "metadata": {},
   "outputs": [
    {
     "name": "stdout",
     "output_type": "stream",
     "text": [
      "Correlation coefficient: 0.9772950830186736\n"
     ]
    }
   ],
   "source": [
    "hours = np.array([10, 12, 15, 18, 20, 22, 25, 28, 30, 32, 35, 38, 40, 42, 45, 48, 50, 52, 55, 58, 60, 62, 65, 68, 70, 72, 75, 78, 80, 82])\n",
    "scores = np.array([60, 65, 70, 75, 80, 82, 85, 88, 90, 92, 93, 95, 96, 97, 98, 99, 100, 102, 105, 106, 107, 108, 110, 112, 114, 115, 116, 118, 120, 122])\n",
    "\n",
    "correlation = np.corrcoef(hours, scores)[0,1]\n",
    "print(\"Correlation coefficient:\", correlation)"
   ]
  },
  {
   "cell_type": "markdown",
   "id": "b6408e8d",
   "metadata": {},
   "source": [
    "9. A multiple-choice test consists of 10 questions, each with four possible answers. If a student randomly guesses on each question, what is the probability of getting at least 8 questions correct? \n",
    " \n",
    "Data: Number of questions (n) = 10, Number of possible answers per question (k) = 4"
   ]
  },
  {
   "cell_type": "code",
   "execution_count": 9,
   "id": "a8e6838f",
   "metadata": {},
   "outputs": [
    {
     "name": "stdout",
     "output_type": "stream",
     "text": [
      "Probability of getting at least 8 correct: 0.000415802001953125\n"
     ]
    }
   ],
   "source": [
    "from scipy.stats import binom\n",
    "\n",
    "n = 10\n",
    "p = 1/4\n",
    "prob = binom.sf(7, n, p)\n",
    "print(\"Probability of getting at least 8 correct:\", prob)"
   ]
  },
  {
   "cell_type": "markdown",
   "id": "c8424177",
   "metadata": {},
   "source": [
    "10. The lifetimes of a certain brand of light bulbs are normally distributed with a mean of 1000 hours and a standard deviation of 100 hours. What is the probability that a randomly selected light bulb lasts between 900 and 1100 hours? \n",
    "\n",
    "Data: Mean lifetime (μ) = 1000 hours, Standard deviation (σ) = 100 hours, Lifetime range (lower limit x1, upper limit x2)"
   ]
  },
  {
   "cell_type": "code",
   "execution_count": 10,
   "id": "ab197856",
   "metadata": {},
   "outputs": [
    {
     "name": "stdout",
     "output_type": "stream",
     "text": [
      "Probability that lifetime is between 900 and 1100 hours: 0.6826894921370859\n"
     ]
    }
   ],
   "source": [
    "from scipy.stats import norm\n",
    "\n",
    "mu = 1000\n",
    "sigma = 100\n",
    "\n",
    "prob = norm.cdf(1100, mu, sigma) - norm.cdf(900, mu, sigma)\n",
    "print(\"Probability that lifetime is between 900 and 1100 hours:\", prob)"
   ]
  },
  {
   "cell_type": "markdown",
   "id": "41ec541d",
   "metadata": {},
   "source": [
    "11. A study is conducted to estimate the mean height of a population. A random sample of 100 individuals is selected, and their heights are measured. Calculate a 95% confidence interval for the population mean height, given that the sample mean height is 170 cm and the sample standard deviation is 8 cm. \n",
    " \n",
    "Data: Sample size (n) = 100, Sample mean (x) = 170 cm, Sample standard deviation (s) = 8 cm, Confidence level = 95%\n",
    "\n",
    "Explanation: In this problem, we use a sample to estimate the population mean height. By calculating a confidence interval, we provide a range of plausible values for the population mean. The 95% confidence level indicates that we are 95% confident that the true population mean height falls within the calculated interval."
   ]
  },
  {
   "cell_type": "code",
   "execution_count": 11,
   "id": "7f301880",
   "metadata": {},
   "outputs": [
    {
     "name": "stdout",
     "output_type": "stream",
     "text": [
      "95% Confidence Interval: (np.float64(168.43202881236795), np.float64(171.56797118763205))\n"
     ]
    }
   ],
   "source": [
    "from scipy import stats\n",
    "\n",
    "n = 100\n",
    "x_bar = 170\n",
    "s = 8\n",
    "confidence = 0.95\n",
    "\n",
    "z = stats.norm.ppf(0.975)\n",
    "margin_error = z * (s / np.sqrt(n))\n",
    "CI = (x_bar - margin_error, x_bar + margin_error)\n",
    "print(\"95% Confidence Interval:\", CI)"
   ]
  },
  {
   "cell_type": "markdown",
   "id": "793fba60",
   "metadata": {},
   "source": [
    "12. A manufacturing company claims that the average weight of its product is 500 grams. To test this claim, a random sample of 25 products is selected, and their weights are measured. The sample mean weight is found to be 510 grams with a sample standard deviation of 20 grams. Perform a hypothesis test to determine if there is evidence to support the company's claim. \n",
    " \n",
    "Data: Sample size (n) = 25, Sample mean (x) = 510 grams, Sample standard deviation (s) = 20 grams, Population mean (μ) = 500 grams\n",
    "\n",
    "Explanation: In this problem, we are conducting a hypothesis test to assess whether the sample mean weight provides evidence to support the company's claim about the population mean weight. The null hypothesis (H0) assumes that the population mean weight is equal to the claimed value, while the alternative hypothesis (Ha) suggests otherwise."
   ]
  },
  {
   "cell_type": "code",
   "execution_count": 12,
   "id": "35047318",
   "metadata": {},
   "outputs": [
    {
     "name": "stdout",
     "output_type": "stream",
     "text": [
      "t-statistic: 2.5\n",
      "p-value: 0.01965417511657863\n"
     ]
    }
   ],
   "source": [
    "from scipy.stats import t\n",
    "\n",
    "n = 25\n",
    "x_bar = 510\n",
    "s = 20\n",
    "mu = 500\n",
    "\n",
    "t_stat = (x_bar - mu) / (s/np.sqrt(n))\n",
    "df = n - 1\n",
    "p_value = 2 * (1 - t.cdf(abs(t_stat), df))\n",
    "\n",
    "print(\"t-statistic:\", t_stat)\n",
    "print(\"p-value:\", p_value)"
   ]
  },
  {
   "cell_type": "markdown",
   "id": "5de29489",
   "metadata": {},
   "source": [
    "13. A researcher wants to test whether a new teaching method improves student performance. A random sample of 50 students is divided into two groups: one group taught using the new method and the other using the traditional method. The average test scores of the two groups are compared. State the null and alternative hypotheses for this study.\n",
    " \n",
    "Data: Sample size (n) = 50, Test scores of the two groups\n",
    "\n",
    "Explanation: In this problem, we are interested in comparing the means of two groups (new method vs. traditional method). The null hypothesis (H0) states that there is no significant difference between the means, while the alternative hypothesis (Ha) suggests that there is a significant difference"
   ]
  },
  {
   "cell_type": "code",
   "execution_count": 13,
   "id": "737cb4a9",
   "metadata": {},
   "outputs": [
    {
     "name": "stdout",
     "output_type": "stream",
     "text": [
      "t = 1.562, df = 45.8, p = 0.125\n",
      "Fail to reject H0\n"
     ]
    }
   ],
   "source": [
    "import numpy as np\n",
    "from scipy import stats\n",
    "\n",
    "mean_new, mean_trad = 78, 74\n",
    "std_new, std_trad   = 8, 10\n",
    "n_new = n_trad = 25\n",
    "\n",
    "se = np.sqrt((std_new**2/n_new) + (std_trad**2/n_trad))\n",
    "\n",
    "t = (mean_new - mean_trad) / se\n",
    "\n",
    "df = ( (std_new**2/n_new + std_trad**2/n_trad)**2 /\n",
    "       ((std_new**2/n_new)**2/(n_new-1) + (std_trad**2/n_trad)**2/(n_trad-1)) )\n",
    "\n",
    "p = 2 * (1 - stats.t.cdf(abs(t), df))\n",
    "\n",
    "print(f\"t = {t:.3f}, df = {df:.1f}, p = {p:.3f}\")\n",
    "print(\"Reject H0\" if p < 0.05 else \"Fail to reject H0\")"
   ]
  },
  {
   "cell_type": "markdown",
   "id": "4a7bd692",
   "metadata": {},
   "source": [
    "14. A survey is conducted to estimate the proportion of people in a city who support a particular policy. A random sample of 500 individuals is surveyed, and 320 of them express support for the policy. Calculate a 90% confidence interval for the population proportion, given the sample proportion. \n",
    "\n",
    "Data: Sample size (n) = 500, Number of successes (x) = 320, Confidence level = 90%\n",
    "\n",
    "Explanation: In this problem, we aim to estimate the population proportion based on the sample proportion. By constructing a confidence interval, we provide a range of plausible values for the population proportion. The 90% confidence level indicates that we are 90% confident that the true population proportion falls within the calculated interval."
   ]
  },
  {
   "cell_type": "code",
   "execution_count": 14,
   "id": "fa3b9d09",
   "metadata": {},
   "outputs": [
    {
     "name": "stdout",
     "output_type": "stream",
     "text": [
      "90% Confidence Interval for population proportion: (np.float64(0.6046911565801545), np.float64(0.6753088434198455))\n"
     ]
    }
   ],
   "source": [
    "n = 500\n",
    "x = 320\n",
    "p_hat = x / n\n",
    "confidence = 0.90\n",
    "\n",
    "z = stats.norm.ppf(0.95)\n",
    "margin_error = z * np.sqrt((p_hat * (1 - p_hat)) / n)\n",
    "CI = (p_hat - margin_error, p_hat + margin_error)\n",
    "print(\"90% Confidence Interval for population proportion:\", CI)"
   ]
  },
  {
   "cell_type": "markdown",
   "id": "6f824ee7",
   "metadata": {},
   "source": [
    "15. A company sells smartphones, and the number of defects per batch follows a Poisson distribution with a mean of 2 defects. What is the probability of having exactly 3 defects in a randomly selected batch?\n",
    "\n",
    "Data: Mean number of defects (λ) = 2, Number of defects (x) = 3\n",
    "\n",
    "Explanation: The problem involves a discrete distribution (Poisson) because we are dealing with the count of defects in a batch of smartphones. The Poisson distribution models the probability of a given number of events occurring within a fixed interval of time or space."
   ]
  },
  {
   "cell_type": "code",
   "execution_count": 15,
   "id": "e5a67425",
   "metadata": {},
   "outputs": [
    {
     "name": "stdout",
     "output_type": "stream",
     "text": [
      "Probability of exactly 3 defects: 0.18044704431548356\n"
     ]
    }
   ],
   "source": [
    "from scipy.stats import poisson\n",
    "\n",
    "lambda_ = 2\n",
    "x = 3\n",
    "\n",
    "prob = poisson.pmf(x, lambda_)\n",
    "print(\"Probability of exactly 3 defects:\", prob)"
   ]
  }
 ],
 "metadata": {
  "kernelspec": {
   "display_name": "Python 3",
   "language": "python",
   "name": "python3"
  },
  "language_info": {
   "codemirror_mode": {
    "name": "ipython",
    "version": 3
   },
   "file_extension": ".py",
   "mimetype": "text/x-python",
   "name": "python",
   "nbconvert_exporter": "python",
   "pygments_lexer": "ipython3",
   "version": "3.11.9"
  }
 },
 "nbformat": 4,
 "nbformat_minor": 5
}
