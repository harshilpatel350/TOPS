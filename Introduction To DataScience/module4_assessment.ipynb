{
 "cells": [
  {
   "cell_type": "markdown",
   "id": "fc124708",
   "metadata": {},
   "source": [
    "### NUMPY"
   ]
  },
  {
   "cell_type": "markdown",
   "id": "c499cb70",
   "metadata": {},
   "source": [
    "Q.1 Convert a 1D array to a 2D array with 2 rows"
   ]
  },
  {
   "cell_type": "code",
   "execution_count": 25,
   "id": "9c944f1f",
   "metadata": {},
   "outputs": [
    {
     "name": "stdout",
     "output_type": "stream",
     "text": [
      "[[1 2 3]\n",
      " [4 5 6]]\n"
     ]
    }
   ],
   "source": [
    "import numpy as np\n",
    "\n",
    "arr = np.array([1,2,3,4,5,6])\n",
    "arr_2d = arr.reshape(2, -1)\n",
    "print(arr_2d)"
   ]
  },
  {
   "cell_type": "markdown",
   "id": "e23419e7",
   "metadata": {},
   "source": [
    "Q.2 Get the common items between a and b\n",
    "Input:\n",
    "a = np.array([1,2,3,2,3,4,3,4,5,6])\n",
    "b = np.array([7,2,10,2,7,4,9,4,9,8])"
   ]
  },
  {
   "cell_type": "code",
   "execution_count": 26,
   "id": "987bd689",
   "metadata": {},
   "outputs": [
    {
     "name": "stdout",
     "output_type": "stream",
     "text": [
      "[2 4]\n"
     ]
    }
   ],
   "source": [
    "a = np.array([1,2,3,2,3,4,3,4,5,6])\n",
    "b = np.array([7,2,10,2,7,4,9,4,9,8])\n",
    "common = np.intersect1d(a, b)\n",
    "print(common)"
   ]
  },
  {
   "cell_type": "markdown",
   "id": "8741b075",
   "metadata": {},
   "source": [
    "Q.3 Get all items between 5 and 10 from a.\n",
    "Input:\n",
    "a = np.array([2, 6, 1, 9, 10, 3, 27]) "
   ]
  },
  {
   "cell_type": "code",
   "execution_count": 27,
   "id": "77cdf79a",
   "metadata": {},
   "outputs": [
    {
     "name": "stdout",
     "output_type": "stream",
     "text": [
      "[ 6  9 10]\n"
     ]
    }
   ],
   "source": [
    "a = np.array([2,6,1,9,10,3,27])\n",
    "filtered = a[(a >= 5) & (a <= 10)]\n",
    "print(filtered)"
   ]
  },
  {
   "cell_type": "markdown",
   "id": "1041318c",
   "metadata": {},
   "source": [
    "Q.4 Limit the number of items printed in python NumPy array a to a maximum of 6\n",
    "elements.\n",
    "Input:\n",
    "array([ 0, 1, 2, 3, 4, 5, 6, 7, 8, 9, 10, 11, 12, 13, 14]) "
   ]
  },
  {
   "cell_type": "code",
   "execution_count": 28,
   "id": "60be4660",
   "metadata": {},
   "outputs": [
    {
     "name": "stdout",
     "output_type": "stream",
     "text": [
      "[ 0  1  2 ... 12 13 14]\n"
     ]
    }
   ],
   "source": [
    "np.set_printoptions(threshold=6)\n",
    "a = np.arange(15)\n",
    "print(a)"
   ]
  },
  {
   "cell_type": "markdown",
   "id": "03249f4f",
   "metadata": {},
   "source": [
    "### PANDAS"
   ]
  },
  {
   "cell_type": "markdown",
   "id": "98bc68a9",
   "metadata": {},
   "source": [
    "1. Compute the minimum, 25th percentile, median, 75th, and maximum of ser. "
   ]
  },
  {
   "cell_type": "code",
   "execution_count": 29,
   "id": "6f698ba2",
   "metadata": {},
   "outputs": [
    {
     "name": "stdout",
     "output_type": "stream",
     "text": [
      "Min: 1\n",
      "25th percentile: 4.5\n",
      "Median: 8.0\n",
      "75th percentile: 11.5\n",
      "Max: 15\n"
     ]
    }
   ],
   "source": [
    "import pandas as pd\n",
    "import numpy as np\n",
    "\n",
    "ser = pd.Series([1,3,5,7,9,11,13,15])\n",
    "print(\"Min:\", ser.min())\n",
    "print(\"25th percentile:\", np.percentile(ser, 25))\n",
    "print(\"Median:\", ser.median())\n",
    "print(\"75th percentile:\", np.percentile(ser, 75))\n",
    "print(\"Max:\", ser.max())"
   ]
  },
  {
   "cell_type": "markdown",
   "id": "2e01c7f9",
   "metadata": {},
   "source": [
    "2. Creating A Pandas Data Frame and Using Sample Data Sets "
   ]
  },
  {
   "cell_type": "code",
   "execution_count": 30,
   "id": "3f080daf",
   "metadata": {},
   "outputs": [
    {
     "name": "stdout",
     "output_type": "stream",
     "text": [
      "      Name  Age City\n",
      "0    Alice   25   NY\n",
      "1      Bob   30   LA\n",
      "2  Charlie   35   SF\n"
     ]
    }
   ],
   "source": [
    "data = {'Name': ['Alice','Bob','Charlie'], 'Age':[25,30,35], 'City':['NY','LA','SF']}\n",
    "df = pd.DataFrame(data)\n",
    "print(df)"
   ]
  },
  {
   "cell_type": "markdown",
   "id": "fd0c8679",
   "metadata": {},
   "source": [
    "3. Using NumPy, create a Pandas Data Frame with five rows and three columns. "
   ]
  },
  {
   "cell_type": "code",
   "execution_count": 31,
   "id": "61d89785",
   "metadata": {},
   "outputs": [
    {
     "name": "stdout",
     "output_type": "stream",
     "text": [
      "    0   1   2\n",
      "0   0   1   2\n",
      "1   3   4   5\n",
      "2   6   7   8\n",
      "3   9  10  11\n",
      "4  12  13  14\n"
     ]
    }
   ],
   "source": [
    "arr = np.arange(15).reshape(5,3)\n",
    "df = pd.DataFrame(arr)\n",
    "print(df)"
   ]
  },
  {
   "cell_type": "markdown",
   "id": "605972f8",
   "metadata": {},
   "source": [
    "4. For a Pandas Data Frame created from a NumPy array, what is the default behavior for the labels for the columns? For the rows? "
   ]
  },
  {
   "cell_type": "markdown",
   "id": "ff1774a1",
   "metadata": {},
   "source": [
    "Columns: 0, 1, 2,...\n",
    "Rows: 0, 1, 2,..."
   ]
  },
  {
   "cell_type": "markdown",
   "id": "2a712e6d",
   "metadata": {},
   "source": [
    "5. take csv file contains at least 10,000 rows and 12 columns which numerical and text values according to that continue following steps. "
   ]
  },
  {
   "cell_type": "code",
   "execution_count": 32,
   "id": "cfa0aceb",
   "metadata": {},
   "outputs": [],
   "source": [
    "df = pd.read_csv(\"hpai-wild-birds.csv\")"
   ]
  },
  {
   "cell_type": "markdown",
   "id": "f6edb98c",
   "metadata": {},
   "source": [
    "6. Write the code to show the number of rows and columns in data frame. "
   ]
  },
  {
   "cell_type": "code",
   "execution_count": 33,
   "id": "a41aa221",
   "metadata": {},
   "outputs": [
    {
     "name": "stdout",
     "output_type": "stream",
     "text": [
      "(13037, 9)\n"
     ]
    }
   ],
   "source": [
    "print(df.shape)"
   ]
  },
  {
   "cell_type": "markdown",
   "id": "4eba3fad",
   "metadata": {},
   "source": [
    "7. How might you show the first few rows of data frame? "
   ]
  },
  {
   "cell_type": "code",
   "execution_count": 34,
   "id": "6c7dac2e",
   "metadata": {},
   "outputs": [
    {
     "name": "stdout",
     "output_type": "stream",
     "text": [
      "            State    County Collection Date Date Detected HPAI Strain  \\\n",
      "0  South Carolina  Colleton      12/30/2021     1/13/2022     EA H5N1   \n",
      "1  South Carolina  Colleton      12/30/2021     1/13/2022     EA H5N1   \n",
      "2  North Carolina      Hyde      12/30/2021     1/12/2022     EA H5N1   \n",
      "3  North Carolina      Hyde        1/8/2022     1/20/2022     EA H5N1   \n",
      "4  North Carolina      Hyde        1/8/2022     1/20/2022       EA H5   \n",
      "\n",
      "        Bird Species WOAH Classification Sampling Method Submitting Agency  \n",
      "0    American wigeon           Wild bird  Hunter harvest              NWDP  \n",
      "1   Blue-winged teal           Wild bird  Hunter harvest              NWDP  \n",
      "2  Northern shoveler           Wild bird  Hunter harvest              NWDP  \n",
      "3    American wigeon           Wild bird  Hunter harvest              NWDP  \n",
      "4            Gadwall           Wild bird  Hunter harvest              NWDP  \n"
     ]
    }
   ],
   "source": [
    "print(df.head())"
   ]
  },
  {
   "cell_type": "markdown",
   "id": "5e61c1f0",
   "metadata": {},
   "source": [
    "8. If you select a single column from the diamonds Data Frame, what will be the type of the return value?"
   ]
  },
  {
   "cell_type": "code",
   "execution_count": 35,
   "id": "783cd5f8",
   "metadata": {},
   "outputs": [
    {
     "data": {
      "text/plain": [
       "pandas.core.series.Series"
      ]
     },
     "execution_count": 35,
     "metadata": {},
     "output_type": "execute_result"
    }
   ],
   "source": [
    "type(df['State'])"
   ]
  },
  {
   "cell_type": "markdown",
   "id": "1329710a",
   "metadata": {},
   "source": [
    "9. Create a line plot using the x and y values provided below. Label the y-axis as “Y” and label the x-axis as “X”.\n",
    "x = [3, 4, 5, 6]\n",
    "y = [1.5, 2, 2.5, 3] "
   ]
  },
  {
   "cell_type": "code",
   "execution_count": 36,
   "id": "56c09d45",
   "metadata": {},
   "outputs": [
    {
     "data": {
      "image/png": "[encoded data removed]",
      "text/plain": [
       "<Figure size 640x480 with 1 Axes>"
      ]
     },
     "metadata": {},
     "output_type": "display_data"
    }
   ],
   "source": [
    "import matplotlib.pyplot as plt\n",
    "\n",
    "x = [3,4,5,6]\n",
    "y = [1.5,2,2.5,3]\n",
    "\n",
    "plt.plot(x, y)\n",
    "plt.xlabel('X')\n",
    "plt.ylabel('Y')\n",
    "plt.title('Line Plot')\n",
    "plt.show()"
   ]
  },
  {
   "cell_type": "markdown",
   "id": "6cf0b57a",
   "metadata": {},
   "source": [
    "10. Create an array of numbers between 0 and 6 with increments of 0.3 and name its “x”. Then on the same plot, plot x, x², x³, and x⁴. For consistency, use the following style lines respectively, “ro”, “bs”, “g”, and “:”. Lastly, make sure that the x-axis covers 0 to 6, while the y-axis spans from 0 to 125. Do not worry if you are not familiar with the style lines — you will recognize them as soon as you see the plot."
   ]
  },
  {
   "cell_type": "code",
   "execution_count": 37,
   "id": "9e6c93ee",
   "metadata": {},
   "outputs": [
    {
     "data": {
      "image/png": "[encoded data removed]",
      "text/plain": [
       "<Figure size 640x480 with 1 Axes>"
      ]
     },
     "metadata": {},
     "output_type": "display_data"
    }
   ],
   "source": [
    "x = np.arange(0,6.3,0.3)\n",
    "\n",
    "plt.plot(x, x, 'ro')\n",
    "plt.plot(x, x**2, 'bs')\n",
    "plt.plot(x, x**3, 'g')\n",
    "plt.plot(x, x**4, ':')\n",
    "plt.xlim(0,6)\n",
    "plt.ylim(0,125)\n",
    "plt.show()"
   ]
  },
  {
   "cell_type": "markdown",
   "id": "f04ffb7e",
   "metadata": {},
   "source": [
    "11. Heights and initials of a group of individuals are provided below. Create a bar plot titled “Height Comparison” to compare the heights among this group.\n",
    "height = [179, 155, 191, 152, 188, 177]\n",
    "names = ['QA', 'WB', 'EC', 'RD', 'TE', 'YF'] "
   ]
  },
  {
   "cell_type": "code",
   "execution_count": 38,
   "id": "e71f6b16",
   "metadata": {},
   "outputs": [
    {
     "data": {
      "image/png": "[encoded data removed]",
      "text/plain": [
       "<Figure size 640x480 with 1 Axes>"
      ]
     },
     "metadata": {},
     "output_type": "display_data"
    }
   ],
   "source": [
    "height = [179, 155, 191, 152, 188, 177]\n",
    "names = ['QA','WB','EC','RD','TE','YF']\n",
    "\n",
    "plt.bar(names, height)\n",
    "plt.title(\"Height Comparison\")\n",
    "plt.ylabel(\"Height\")\n",
    "plt.show()"
   ]
  },
  {
   "cell_type": "markdown",
   "id": "3719afac",
   "metadata": {},
   "source": [
    "12. Plot a histogram of x, where x consists of 100,000 randomly-selected points with a normal distribution (hint: you can use numpy.random.randn() to generate the random points). The histogram should have 10 bins. Look at how the histogram changes when we try 20 and 50 bins."
   ]
  },
  {
   "cell_type": "code",
   "execution_count": 39,
   "id": "a7d84cef",
   "metadata": {},
   "outputs": [
    {
     "data": {
      "image/png": "[encoded data removed]",
      "text/plain": [
       "<Figure size 640x480 with 1 Axes>"
      ]
     },
     "metadata": {},
     "output_type": "display_data"
    },
    {
     "data": {
      "image/png": "[encoded data removed]",
      "text/plain": [
       "<Figure size 640x480 with 1 Axes>"
      ]
     },
     "metadata": {},
     "output_type": "display_data"
    },
    {
     "data": {
      "image/png": "[encoded data removed]",
      "text/plain": [
       "<Figure size 640x480 with 1 Axes>"
      ]
     },
     "metadata": {},
     "output_type": "display_data"
    }
   ],
   "source": [
    "x = np.random.randn(100000)\n",
    "\n",
    "plt.hist(x, bins=10)\n",
    "plt.show()\n",
    "\n",
    "plt.hist(x, bins=20)\n",
    "plt.show()\n",
    "\n",
    "plt.hist(x, bins=50)\n",
    "plt.show()"
   ]
  },
  {
   "cell_type": "markdown",
   "id": "92d2f894",
   "metadata": {},
   "source": [
    "13. What are the features of TensorFlow? "
   ]
  },
  {
   "cell_type": "markdown",
   "id": "4dfc8ff5",
   "metadata": {},
   "source": [
    "Open-source ML library for numerical computation\n",
    "\n",
    "Supports deep learning, neural networks\n",
    "\n",
    "Flexible for CPUs, GPUs, and TPUs\n",
    "\n",
    "Dataflow graphs for computation\n",
    "\n",
    "High-level APIs like Keras"
   ]
  },
  {
   "cell_type": "markdown",
   "id": "2606da14",
   "metadata": {},
   "source": [
    "14. List a few limitations of TensorFlow. "
   ]
  },
  {
   "cell_type": "markdown",
   "id": "4a4b84ba",
   "metadata": {},
   "source": [
    "Steep learning curve for beginners\n",
    "\n",
    "Can be verbose for simple tasks\n",
    "\n",
    "Debugging graphs can be tricky\n",
    "\n",
    "May consume more memory than lightweight frameworks"
   ]
  },
  {
   "cell_type": "markdown",
   "id": "baf54a58",
   "metadata": {},
   "source": [
    "15. What do you know about supervised and unsupervised machine learning? "
   ]
  },
  {
   "cell_type": "markdown",
   "id": "5ca3263e",
   "metadata": {},
   "source": [
    "1. Supervised ML uses labeled data to predict outcomes\n",
    "2. Unsupervised ML uses unlabeled data to find patterns"
   ]
  }
 ],
 "metadata": {
  "kernelspec": {
   "display_name": "Python 3",
   "language": "python",
   "name": "python3"
  },
  "language_info": {
   "codemirror_mode": {
    "name": "ipython",
    "version": 3
   },
   "file_extension": ".py",
   "mimetype": "text/x-python",
   "name": "python",
   "nbconvert_exporter": "python",
   "pygments_lexer": "ipython3",
   "version": "3.11.9"
  }
 },
 "nbformat": 4,
 "nbformat_minor": 5
}
