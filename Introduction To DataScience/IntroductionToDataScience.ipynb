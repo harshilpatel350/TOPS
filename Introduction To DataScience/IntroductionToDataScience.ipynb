{
 "cells": [
  {
   "cell_type": "code",
   "execution_count": 1,
   "id": "3006ad6e",
   "metadata": {},
   "outputs": [
    {
     "data": {
      "text/plain": [
       "10"
      ]
     },
     "execution_count": 1,
     "metadata": {},
     "output_type": "execute_result"
    }
   ],
   "source": [
    "# 1. Write a python program to sum of the first n positive integers.\n",
    "def fun(n):\n",
    "    x=0\n",
    "    for i in range(1,1+n):\n",
    "        x+=i\n",
    "    return x\n",
    "fun(4)"
   ]
  },
  {
   "cell_type": "code",
   "execution_count": null,
   "id": "a4de0638",
   "metadata": {},
   "outputs": [
    {
     "data": {
      "text/plain": [
       "2"
      ]
     },
     "execution_count": 5,
     "metadata": {},
     "output_type": "execute_result"
    }
   ],
   "source": [
    "# 2. Write a Python program to count occurrences of a substring in a string.\n",
    "def fun(str,sub):\n",
    "    return str.count(sub)\n",
    "fun(\"Hello World, World is full of Data\",\"World\")"
   ]
  },
  {
   "cell_type": "code",
   "execution_count": 8,
   "id": "4c2c12fa",
   "metadata": {},
   "outputs": [
    {
     "name": "stdout",
     "output_type": "stream",
     "text": [
      "{'Hello': 1, 'World': 1}\n"
     ]
    }
   ],
   "source": [
    "#3. Write a Python program to count the occurrences of each word in a given sentence.\n",
    "string=\"Hello World\"\n",
    "word=string.split()\n",
    "count={}\n",
    "for i in word:\n",
    "    if i in count:\n",
    "        count[i]+=1\n",
    "    else:\n",
    "        count[i]=1\n",
    "print(count)"
   ]
  },
  {
   "cell_type": "code",
   "execution_count": 9,
   "id": "5f7f47be",
   "metadata": {},
   "outputs": [
    {
     "name": "stdout",
     "output_type": "stream",
     "text": [
      "Wollo Herld\n"
     ]
    }
   ],
   "source": [
    "#4. Write a Python program to get a single string from two given strings, separated by a space and swap the first two characters of each string.\n",
    "str1='Hello'\n",
    "str2='World'\n",
    "string1=str2[:2]+str1[2:]\n",
    "string2=str1[:2]+str2[2:]\n",
    "print(string1+\" \"+string2)\n"
   ]
  },
  {
   "cell_type": "code",
   "execution_count": 11,
   "id": "15f3661a",
   "metadata": {},
   "outputs": [
    {
     "name": "stdout",
     "output_type": "stream",
     "text": [
      "balling\n"
     ]
    }
   ],
   "source": [
    "# 5. Write a Python program to add 'ing' at the end of a given string (length should be at least 3). If the given string already ends with 'ing' then add 'ly' instead If the string length of the given string is less than 3, leave it unchanged.\n",
    "str=\"ball\"\n",
    "if len(str)>=3:\n",
    "    if str[-3:]==\"ing\":\n",
    "        str+=\"ly\"\n",
    "    else:\n",
    "        str+=\"ing\"\n",
    "print(str)"
   ]
  },
  {
   "cell_type": "code",
   "execution_count": 18,
   "id": "d78e2cfe",
   "metadata": {},
   "outputs": [
    {
     "name": "stdout",
     "output_type": "stream",
     "text": [
      "He is not good\n"
     ]
    }
   ],
   "source": [
    "#6. Write a Python program to find the first appearance of the substring 'not' and 'poor' from a given string, if 'not' follows the 'poor', replace the whole 'not'...'poor' substring with 'good'. Return the resulting string.\n",
    "str=\"He is not poor.\"\n",
    "b=str.find(\"poor\")\n",
    "if b != -1:\n",
    "    c=str[:b]+\"good\"\n",
    "else:\n",
    "    c=str\n",
    "print(c)"
   ]
  },
  {
   "cell_type": "code",
   "execution_count": 24,
   "id": "6b9a9712",
   "metadata": {},
   "outputs": [
    {
     "name": "stdout",
     "output_type": "stream",
     "text": [
      "5\n"
     ]
    }
   ],
   "source": [
    "# 7. Program to find Greatest Common Divisor of two numbers. For example, the GCDof20 and 28 is 4 and the GCD of 98 and 56 is 14.\n",
    "num1=10\n",
    "num2=25\n",
    "result=0\n",
    "for i in range(1,min(num1,num2)):\n",
    "    if num1%i==0 and num2%i==0:\n",
    "        result=i\n",
    "print(result)"
   ]
  },
  {
   "cell_type": "code",
   "execution_count": 27,
   "id": "17651a5b",
   "metadata": {},
   "outputs": [
    {
     "name": "stdout",
     "output_type": "stream",
     "text": [
      "True\n"
     ]
    }
   ],
   "source": [
    "# 8. Write a Python program to check whether a list contains a sublist.\n",
    "lst=[1,2,3,4]\n",
    "sub_lst=[1,2]\n",
    "result=False\n",
    "for i in range(len(lst)-len(sub_lst)):\n",
    "    if lst[i:i+len(sub_lst)]==sub_lst:\n",
    "        result=True\n",
    "print(result)"
   ]
  },
  {
   "cell_type": "code",
   "execution_count": 28,
   "id": "c0b9902e",
   "metadata": {},
   "outputs": [
    {
     "name": "stdout",
     "output_type": "stream",
     "text": [
      "2\n"
     ]
    }
   ],
   "source": [
    "# 9. Write a Python program to find the second smallest number in a list.\n",
    "lst=[1,2,3,4,5]\n",
    "a=min(lst)\n",
    "b=max(lst)\n",
    "for i in lst:\n",
    "    if i != a and i<b:\n",
    "        b=i\n",
    "print(b)"
   ]
  },
  {
   "cell_type": "code",
   "execution_count": 30,
   "id": "0f57b438",
   "metadata": {},
   "outputs": [
    {
     "name": "stdout",
     "output_type": "stream",
     "text": [
      "[1, 2, 3, 6, 7, 4, 5]\n"
     ]
    }
   ],
   "source": [
    "# 10.Write a Python program to get unique values from a list.\n",
    "lst=[1,2,3,2,6,7,1,2.0,3,4,5]\n",
    "val=[]\n",
    "for i in lst:\n",
    "    if i not in val:\n",
    "        val.append(i)\n",
    "print(val)"
   ]
  },
  {
   "cell_type": "code",
   "execution_count": 36,
   "id": "36320b23",
   "metadata": {},
   "outputs": [
    {
     "name": "stdout",
     "output_type": "stream",
     "text": [
      "[1, 2, 3] ['apple', 'berry', 'cherry']\n"
     ]
    }
   ],
   "source": [
    "# 11.Write a Python program to unzip a list of tuples into individual lists.\n",
    "lst=[(1,'apple'),(2,'berry'),(3,'cherry')]\n",
    "l1,l2=zip(*lst)\n",
    "l1=list(l1)\n",
    "l2=list(l2)\n",
    "print(l1,l2)"
   ]
  },
  {
   "cell_type": "code",
   "execution_count": 2,
   "id": "2bb195df",
   "metadata": {},
   "outputs": [
    {
     "name": "stdout",
     "output_type": "stream",
     "text": [
      "{1: 'apple', 2: 'berry', 3: 'cherry'}\n"
     ]
    }
   ],
   "source": [
    "# 12.Write a Python program to convert a list of tuples into a dictionary\n",
    "lst=[(1,'apple'),(2,'berry'),(3,'cherry')]\n",
    "c={}\n",
    "for key,value in lst:\n",
    "    c[key]=value\n",
    "print(c)"
   ]
  },
  {
   "cell_type": "code",
   "execution_count": 4,
   "id": "cdca9466",
   "metadata": {},
   "outputs": [
    {
     "name": "stdout",
     "output_type": "stream",
     "text": [
      "{'apple': 1, 'berry': 2, 'cherry': 3}\n",
      "{'cherry': 3, 'berry': 2, 'apple': 1}\n"
     ]
    }
   ],
   "source": [
    "# 13.Write a Python program to sort a dictionary (ascending /descending) by value.\n",
    "dictionary={'apple':1,'berry':2,'cherry':3}\n",
    "a=dict(sorted(dictionary.items(), key=lambda x:x[1]))\n",
    "print(a)\n",
    "b=dict(sorted(dictionary.items(),key=lambda x:x[1],reverse=True))\n",
    "print(b)"
   ]
  },
  {
   "cell_type": "code",
   "execution_count": 8,
   "id": "443fb620",
   "metadata": {},
   "outputs": [
    {
     "name": "stdout",
     "output_type": "stream",
     "text": [
      "[3, 2, 1]\n"
     ]
    }
   ],
   "source": [
    "# 14.Write a Python program to find the highest 3 values in a dictionary.\n",
    "dictionary={'apple':1,'berry':2,'cherry':3}\n",
    "val=sorted(dictionary.values(),reverse=True)\n",
    "print(val)"
   ]
  },
  {
   "cell_type": "code",
   "execution_count": 11,
   "id": "f4fe562d",
   "metadata": {},
   "outputs": [
    {
     "name": "stdout",
     "output_type": "stream",
     "text": [
      "[0, 1, 1, 2, 3]\n"
     ]
    }
   ],
   "source": [
    "#15.Given a number n, write a python program to make and print the list of Fibonacci series up to n. Input : n=7 Hint : first 7 numbers in the series Expected output : First few Fibonacci numbers are 0, 1, 1, 2, 3, 5, 8, 13\n",
    "num=5\n",
    "x=[]\n",
    "a,b=0,1\n",
    "for i in range(num):\n",
    "    x.append(a)\n",
    "    a,b=b,a+b\n",
    "print(x)"
   ]
  },
  {
   "cell_type": "code",
   "execution_count": 16,
   "id": "505c7b47",
   "metadata": {},
   "outputs": [
    {
     "data": {
      "text/plain": [
       "{'a': 3, 'ab': 1, 'abc': 2}"
      ]
     },
     "execution_count": 16,
     "metadata": {},
     "output_type": "execute_result"
    }
   ],
   "source": [
    "# 16.Counting the frequencies in a list using a dictionary in Python.\n",
    "def fun(lst):\n",
    "    result={}\n",
    "    for i in lst:\n",
    "        if i in result:\n",
    "            result[i]+=1\n",
    "        else:\n",
    "            result[i]=1\n",
    "    return result\n",
    "fun(['a','ab','abc','a','abc','a'])"
   ]
  },
  {
   "cell_type": "code",
   "execution_count": 21,
   "id": "c62934a6",
   "metadata": {},
   "outputs": [
    {
     "data": {
      "text/plain": [
       "2.7182818284590446"
      ]
     },
     "execution_count": 21,
     "metadata": {},
     "output_type": "execute_result"
    }
   ],
   "source": [
    "# 17.Write a python program using function to find the sum of odd series and even\n",
    "#  series\n",
    "#  Odd series: 12/ 1! +32/ 3! + 52/ 5!+……n\n",
    "#  Even series: 22/ 2! + 42/ 4! + 62/ 6!+……n\n",
    "def fact(num):\n",
    "    x=1\n",
    "    for i in range(1,num+1):\n",
    "        x*=i\n",
    "    return x\n",
    "def odd(num):\n",
    "    y=0\n",
    "    for i in range(1,num+1,2):\n",
    "        y+=(i**2)/fact(i)\n",
    "    return y\n",
    "def even(num):\n",
    "    y=0\n",
    "    for i in range(2,num+1,2):\n",
    "        y+=(i**2)/fact(i)\n",
    "    return y\n",
    "odd(20)\n",
    "even(20)"
   ]
  },
  {
   "cell_type": "code",
   "execution_count": 24,
   "id": "8dd82620",
   "metadata": {},
   "outputs": [
    {
     "data": {
      "text/plain": [
       "120"
      ]
     },
     "execution_count": 24,
     "metadata": {},
     "output_type": "execute_result"
    }
   ],
   "source": [
    "# 18.Python Program to Find Factorial of Number Using Recursion.\n",
    "def fact(num):\n",
    "    if num==0 or num==1:\n",
    "        return 1\n",
    "    else:\n",
    "        return num*fact(num-1)\n",
    "fact(5)"
   ]
  },
  {
   "cell_type": "code",
   "execution_count": 26,
   "id": "f387e663",
   "metadata": {},
   "outputs": [
    {
     "data": {
      "text/plain": [
       "[1, 2, 3, 4, 5, 3.5]"
      ]
     },
     "execution_count": 26,
     "metadata": {},
     "output_type": "execute_result"
    }
   ],
   "source": [
    "# 19.Write a Python function that takes a list and returns a new list with unique\n",
    "#  elements of the first list.\n",
    "def fun(lst):\n",
    "    x=[]\n",
    "    for i in lst:\n",
    "        if i not in x:\n",
    "            x.append(i)\n",
    "    return x\n",
    "fun([1,2,3,4,5,1,2.0,3.5,5])"
   ]
  },
  {
   "cell_type": "code",
   "execution_count": 9,
   "id": "e703b7db",
   "metadata": {},
   "outputs": [
    {
     "name": "stdout",
     "output_type": "stream",
     "text": [
      "Password Generated: Usr2000220@NAME\n",
      "User Details:\n",
      "ID: user\n",
      "Name: name\n",
      "Password: Usr2000220@NAME\n"
     ]
    }
   ],
   "source": [
    "# 20.Mini project :\n",
    "#  Problem Statement : Password Generator\n",
    "#  Make a program to generate a strong password using the input given by the user.\n",
    "#  To generate a password, randomly take some words from the user input and then\n",
    "#  include numbers, special characters and capital letters to generate the password.\n",
    "#  Also, keep a check that password length is more than 8 characters.\n",
    "#  Note: Include Exception handling wherever required. Also, make a ‘User’ class\n",
    "#  and store the details like user id, name and password of each user as a tuple.\n",
    "\n",
    "class User:\n",
    "    def __init__(self, user_id, name, password):\n",
    "        self.details = (user_id, name, password)\n",
    "\n",
    "    def display(self):\n",
    "        print(\"User Details:\")\n",
    "        print(\"ID:\", self.details[0])\n",
    "        print(\"Name:\", self.details[1])\n",
    "        print(\"Password:\", self.details[2])\n",
    "\n",
    "\n",
    "def password():\n",
    "    try:\n",
    "        usr_id = input(\"Enter User ID: \")\n",
    "        name = input(\"Enter your name: \")\n",
    "        pet_name = input(\"Enter your pet name: \")\n",
    "        birthdate = input(\"Enter your birthdate (format: YYYY-MM-DD): \")\n",
    "\n",
    "        if not usr_id:\n",
    "            print(\"User ID is empty.\")\n",
    "            return\n",
    "        if not name:\n",
    "            print(\"Name is empty.\")\n",
    "            return\n",
    "        if not pet_name:\n",
    "            print(\"Pet name is empty.\")\n",
    "            return\n",
    "        if not birthdate:\n",
    "            print(\"Birthdate is empty.\")\n",
    "            return\n",
    "\n",
    "        a = pet_name.capitalize()\n",
    "        b = name.upper()\n",
    "        date_digits = \"\"\n",
    "        for character in birthdate:\n",
    "            if character.isdigit():\n",
    "                date_digits += character\n",
    "        special_chars = ['@', '#', '$', '%', '&', '*', '!']\n",
    "        special = special_chars[0]\n",
    "\n",
    "        pwd = a + date_digits + special + b\n",
    "        print(f\"Password Generated: {pwd}\")\n",
    "\n",
    "        user = User(usr_id, name, pwd)\n",
    "        user.display()\n",
    "\n",
    "    except Exception as e:\n",
    "        print(\"Unexpected error occurred:\", e)\n",
    "\n",
    "password()"
   ]
  }
 ],
 "metadata": {
  "kernelspec": {
   "display_name": "Python 3",
   "language": "python",
   "name": "python3"
  },
  "language_info": {
   "codemirror_mode": {
    "name": "ipython",
    "version": 3
   },
   "file_extension": ".py",
   "mimetype": "text/x-python",
   "name": "python",
   "nbconvert_exporter": "python",
   "pygments_lexer": "ipython3",
   "version": "3.11.9"
  }
 },
 "nbformat": 4,
 "nbformat_minor": 5
}
