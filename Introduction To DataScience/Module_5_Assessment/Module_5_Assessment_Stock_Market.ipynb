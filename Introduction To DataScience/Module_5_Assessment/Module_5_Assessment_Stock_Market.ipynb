{
 "cells": [
  {
   "cell_type": "code",
   "execution_count": 31,
   "id": "cf8d7349-6eb9-4259-a4ea-d1a801acae59",
   "metadata": {},
   "outputs": [],
   "source": [
    "import numpy as np\n",
    "from scipy import stats\n",
    "import pandas as pd\n",
    "import matplotlib.pyplot as plt\n",
    "import seaborn as sns"
   ]
  },
  {
   "cell_type": "code",
   "execution_count": 3,
   "id": "2e5eafca-407f-4a2a-9bdb-275cc424209a",
   "metadata": {},
   "outputs": [],
   "source": [
    "df=pd.read_csv(\"Stock Market.csv\")"
   ]
  },
  {
   "cell_type": "markdown",
   "id": "d083a1af-ed02-4498-9a74-15d8c6e1c57c",
   "metadata": {},
   "source": [
    "1. Are there missing values in the dataset? "
   ]
  },
  {
   "cell_type": "markdown",
   "id": "74592155-e867-4c3c-a96f-7f3df32f71c7",
   "metadata": {},
   "source": [
    "df.isnull().sum()"
   ]
  },
  {
   "cell_type": "markdown",
   "id": "d6981e7c-a1ef-4e25-ad00-3986b946cf0f",
   "metadata": {},
   "source": [
    "2. What is the data type of each column? "
   ]
  },
  {
   "cell_type": "code",
   "execution_count": 7,
   "id": "3be5622d-7180-4038-a283-0abe5a854788",
   "metadata": {},
   "outputs": [
    {
     "data": {
      "text/plain": [
       "Stock               object\n",
       "Date                object\n",
       "Open               float64\n",
       "High               float64\n",
       "Low                float64\n",
       "Close              float64\n",
       "Volume               int64\n",
       "SMA_10             float64\n",
       "RSI                float64\n",
       "MACD               float64\n",
       "Bollinger_Upper    float64\n",
       "Bollinger_Lower    float64\n",
       "GDP_Growth         float64\n",
       "Inflation_Rate     float64\n",
       "Interest_Rate      float64\n",
       "Sentiment_Score    float64\n",
       "Next_Close         float64\n",
       "Target               int64\n",
       "dtype: object"
      ]
     },
     "execution_count": 7,
     "metadata": {},
     "output_type": "execute_result"
    }
   ],
   "source": [
    "df.dtypes"
   ]
  },
  {
   "cell_type": "markdown",
   "id": "5f12e0d0-8d3b-4280-b2ca-86b65229b216",
   "metadata": {},
   "source": [
    "3. Convert Date to datetime format. "
   ]
  },
  {
   "cell_type": "code",
   "execution_count": 8,
   "id": "b30ff71c-c57a-4949-9795-84b6e6735433",
   "metadata": {},
   "outputs": [],
   "source": [
    "df['Date']=pd.to_datetime(df['Date'])"
   ]
  },
  {
   "cell_type": "code",
   "execution_count": 9,
   "id": "14676d34-68bc-4e70-88c5-c75ad8165a84",
   "metadata": {},
   "outputs": [
    {
     "data": {
      "text/plain": [
       "0   2010-01-04\n",
       "1   2010-01-05\n",
       "2   2010-01-07\n",
       "3   2010-01-11\n",
       "4   2010-01-12\n",
       "Name: Date, dtype: datetime64[ns]"
      ]
     },
     "execution_count": 9,
     "metadata": {},
     "output_type": "execute_result"
    }
   ],
   "source": [
    "df['Date'].head()"
   ]
  },
  {
   "cell_type": "markdown",
   "id": "b47692f7-83f8-4a83-bab9-c22021fd04bc",
   "metadata": {},
   "source": [
    "4. Check for duplicate rows. "
   ]
  },
  {
   "cell_type": "code",
   "execution_count": 10,
   "id": "fe2af45d-c23e-4c25-ba35-f74973c37952",
   "metadata": {},
   "outputs": [
    {
     "data": {
      "text/plain": [
       "np.int64(0)"
      ]
     },
     "execution_count": 10,
     "metadata": {},
     "output_type": "execute_result"
    }
   ],
   "source": [
    "df.duplicated().sum()"
   ]
  },
  {
   "cell_type": "markdown",
   "id": "455da1b6-8065-4b8a-b46f-c10e66593991",
   "metadata": {},
   "source": [
    "5. Check the range of RSI (Relative Strength Index). "
   ]
  },
  {
   "cell_type": "code",
   "execution_count": 13,
   "id": "8a412754-09a7-4182-8b1e-405427e2eaf5",
   "metadata": {},
   "outputs": [
    {
     "data": {
      "text/plain": [
       "np.float64(49.827071947215956)"
      ]
     },
     "execution_count": 13,
     "metadata": {},
     "output_type": "execute_result"
    }
   ],
   "source": [
    "df['RSI'].mean()"
   ]
  },
  {
   "cell_type": "code",
   "execution_count": 14,
   "id": "44a8c9a3-5a41-40a6-aa7a-318e4902e90b",
   "metadata": {},
   "outputs": [
    {
     "data": {
      "text/plain": [
       "np.float64(89.99970361452127)"
      ]
     },
     "execution_count": 14,
     "metadata": {},
     "output_type": "execute_result"
    }
   ],
   "source": [
    "df['RSI'].max()"
   ]
  },
  {
   "cell_type": "markdown",
   "id": "8be3b4d2-2c7c-474d-9be7-ea7e0a410ff5",
   "metadata": {},
   "source": [
    "6.  Verify if Next_Close corresponds to the next day’s Close. "
   ]
  },
  {
   "cell_type": "code",
   "execution_count": 33,
   "id": "4a3694be-1021-498d-9adc-fc17e189efdd",
   "metadata": {},
   "outputs": [
    {
     "data": {
      "text/plain": [
       "np.float64(0.0)"
      ]
     },
     "execution_count": 33,
     "metadata": {},
     "output_type": "execute_result"
    }
   ],
   "source": [
    "df = df.sort_values('Date').reset_index(drop=True)\n",
    "df['Next_Close_Shift'] = df['Close'].shift(-1)\n",
    "(df['Next_Close'] == df['Next_Close_Shift']).mean()"
   ]
  },
  {
   "cell_type": "markdown",
   "id": "1edda05d-6837-4f2e-a86f-8b60dff39ea6",
   "metadata": {},
   "source": [
    "7.  Check if any column has constant value. "
   ]
  },
  {
   "cell_type": "code",
   "execution_count": 15,
   "id": "10e2e384-04e8-4230-97b7-7bd8f0b775a3",
   "metadata": {},
   "outputs": [
    {
     "data": {
      "text/plain": [
       "[]"
      ]
     },
     "execution_count": 15,
     "metadata": {},
     "output_type": "execute_result"
    }
   ],
   "source": [
    "df.nunique()[df.nunique() == 1].index.tolist()"
   ]
  },
  {
   "cell_type": "markdown",
   "id": "e7fcd033-c53a-4643-9783-52605a240e9e",
   "metadata": {},
   "source": [
    "8. Check if 'Target' only has 0s and 1s. "
   ]
  },
  {
   "cell_type": "code",
   "execution_count": 17,
   "id": "9915580d-7ca9-44b6-aef3-829560e5444e",
   "metadata": {},
   "outputs": [
    {
     "data": {
      "text/plain": [
       "array([0, 1])"
      ]
     },
     "execution_count": 17,
     "metadata": {},
     "output_type": "execute_result"
    }
   ],
   "source": [
    "df['Target'].unique()"
   ]
  },
  {
   "cell_type": "markdown",
   "id": "e41214df-6dd8-4629-be2f-77de55e078fd",
   "metadata": {},
   "source": [
    "9.  Are there outliers in Volume? "
   ]
  },
  {
   "cell_type": "code",
   "execution_count": 19,
   "id": "30d7a5de-8e3b-462b-b8b3-c2888d5688e9",
   "metadata": {},
   "outputs": [
    {
     "name": "stdout",
     "output_type": "stream",
     "text": [
      "Empty DataFrame\n",
      "Columns: [Stock, Date, Open, High, Low, Close, Volume, SMA_10, RSI, MACD, Bollinger_Upper, Bollinger_Lower, GDP_Growth, Inflation_Rate, Interest_Rate, Sentiment_Score, Next_Close, Target]\n",
      "Index: []\n",
      "0\n"
     ]
    }
   ],
   "source": [
    "x = df['Volume'].quantile(0.25)\n",
    "y = df['Volume'].quantile(0.75)\n",
    "IQR = y-x\n",
    "print(df[(df['Volume'] < (x - 1.5*IQR)) | (df['Volume'] > (y + 1.5*IQR))])\n",
    "print(len(df[(df['Volume'] < (x - 1.5*IQR)) | (df['Volume'] > (y + 1.5*IQR))]))"
   ]
  },
  {
   "cell_type": "markdown",
   "id": "3bf54f87-3c99-4f79-80a3-db4f47e76b9f",
   "metadata": {},
   "source": [
    "10. Check correlation matrix. "
   ]
  },
  {
   "cell_type": "code",
   "execution_count": 20,
   "id": "f9eb9e79-df23-4606-b0aa-de12b0e6071b",
   "metadata": {},
   "outputs": [
    {
     "data": {
      "image/png": "[encoded data removed]",
      "text/plain": [
       "<Figure size 640x480 with 2 Axes>"
      ]
     },
     "metadata": {},
     "output_type": "display_data"
    }
   ],
   "source": [
    "sns.heatmap(df.corr(numeric_only=True), cmap = 'coolwarm')\n",
    "plt.show()"
   ]
  },
  {
   "cell_type": "markdown",
   "id": "1472da1f-570a-4244-a8e3-d812115a4728",
   "metadata": {},
   "source": [
    "11. Are there negative values in Close, Open, MACD, etc.? "
   ]
  },
  {
   "cell_type": "code",
   "execution_count": 21,
   "id": "094417e7-f84d-4413-b689-14676dae1719",
   "metadata": {},
   "outputs": [
    {
     "name": "stdout",
     "output_type": "stream",
     "text": [
      "Close 0\n",
      "Open 0\n",
      "High 0\n",
      "Low 0\n",
      "MACD 25122\n"
     ]
    }
   ],
   "source": [
    "for x in ['Close', 'Open', 'High', 'Low', 'MACD']:\n",
    "    print(x, (df[x] < 0).sum())"
   ]
  },
  {
   "cell_type": "markdown",
   "id": "0d58f88b-cf1f-4666-9b33-58221f0889dc",
   "metadata": {},
   "source": [
    "12. Check for abrupt spikes in Interest Rate. "
   ]
  },
  {
   "cell_type": "code",
   "execution_count": 23,
   "id": "5f9b1616-754d-4fb4-bc80-b4d44739401d",
   "metadata": {},
   "outputs": [
    {
     "data": {
      "text/html": [
       "<div>\n",
       "<style scoped>\n",
       "    .dataframe tbody tr th:only-of-type {\n",
       "        vertical-align: middle;\n",
       "    }\n",
       "\n",
       "    .dataframe tbody tr th {\n",
       "        vertical-align: top;\n",
       "    }\n",
       "\n",
       "    .dataframe thead th {\n",
       "        text-align: right;\n",
       "    }\n",
       "</style>\n",
       "<table border=\"1\" class=\"dataframe\">\n",
       "  <thead>\n",
       "    <tr style=\"text-align: right;\">\n",
       "      <th></th>\n",
       "      <th>Date</th>\n",
       "      <th>Interest_Rate</th>\n",
       "    </tr>\n",
       "  </thead>\n",
       "  <tbody>\n",
       "  </tbody>\n",
       "</table>\n",
       "</div>"
      ],
      "text/plain": [
       "Empty DataFrame\n",
       "Columns: [Date, Interest_Rate]\n",
       "Index: []"
      ]
     },
     "execution_count": 23,
     "metadata": {},
     "output_type": "execute_result"
    }
   ],
   "source": [
    "z = np.abs((df['Interest_Rate'] - df['Interest_Rate'].mean()) / df['Interest_Rate'].std())\n",
    "df[z > 3][['Date', 'Interest_Rate']]"
   ]
  },
  {
   "cell_type": "markdown",
   "id": "f56ecae9-2af4-49a3-a6e5-404fb102c11d",
   "metadata": {},
   "source": [
    "13. Do Bollinger Bands make sense? "
   ]
  },
  {
   "cell_type": "code",
   "execution_count": 34,
   "id": "e3bace2a-631e-40ee-8d7c-3d0d7011e7f2",
   "metadata": {},
   "outputs": [
    {
     "data": {
      "text/html": [
       "<div>\n",
       "<style scoped>\n",
       "    .dataframe tbody tr th:only-of-type {\n",
       "        vertical-align: middle;\n",
       "    }\n",
       "\n",
       "    .dataframe tbody tr th {\n",
       "        vertical-align: top;\n",
       "    }\n",
       "\n",
       "    .dataframe thead th {\n",
       "        text-align: right;\n",
       "    }\n",
       "</style>\n",
       "<table border=\"1\" class=\"dataframe\">\n",
       "  <thead>\n",
       "    <tr style=\"text-align: right;\">\n",
       "      <th></th>\n",
       "      <th>Date</th>\n",
       "      <th>Bollinger_Upper</th>\n",
       "      <th>Upper_Calc</th>\n",
       "      <th>Bollinger_Lower</th>\n",
       "      <th>Lower_Calc</th>\n",
       "    </tr>\n",
       "  </thead>\n",
       "  <tbody>\n",
       "    <tr>\n",
       "      <th>0</th>\n",
       "      <td>2010-01-04</td>\n",
       "      <td>464.398638</td>\n",
       "      <td>NaN</td>\n",
       "      <td>438.231589</td>\n",
       "      <td>NaN</td>\n",
       "    </tr>\n",
       "    <tr>\n",
       "      <th>1</th>\n",
       "      <td>2010-01-04</td>\n",
       "      <td>473.767491</td>\n",
       "      <td>NaN</td>\n",
       "      <td>453.011087</td>\n",
       "      <td>NaN</td>\n",
       "    </tr>\n",
       "    <tr>\n",
       "      <th>2</th>\n",
       "      <td>2010-01-04</td>\n",
       "      <td>464.006812</td>\n",
       "      <td>NaN</td>\n",
       "      <td>448.087166</td>\n",
       "      <td>NaN</td>\n",
       "    </tr>\n",
       "    <tr>\n",
       "      <th>3</th>\n",
       "      <td>2010-01-04</td>\n",
       "      <td>141.017446</td>\n",
       "      <td>NaN</td>\n",
       "      <td>117.354627</td>\n",
       "      <td>NaN</td>\n",
       "    </tr>\n",
       "    <tr>\n",
       "      <th>4</th>\n",
       "      <td>2010-01-05</td>\n",
       "      <td>450.099041</td>\n",
       "      <td>NaN</td>\n",
       "      <td>431.018080</td>\n",
       "      <td>NaN</td>\n",
       "    </tr>\n",
       "  </tbody>\n",
       "</table>\n",
       "</div>"
      ],
      "text/plain": [
       "        Date  Bollinger_Upper  Upper_Calc  Bollinger_Lower  Lower_Calc\n",
       "0 2010-01-04       464.398638         NaN       438.231589         NaN\n",
       "1 2010-01-04       473.767491         NaN       453.011087         NaN\n",
       "2 2010-01-04       464.006812         NaN       448.087166         NaN\n",
       "3 2010-01-04       141.017446         NaN       117.354627         NaN\n",
       "4 2010-01-05       450.099041         NaN       431.018080         NaN"
      ]
     },
     "execution_count": 34,
     "metadata": {},
     "output_type": "execute_result"
    }
   ],
   "source": [
    "df['SMA_20'] = df['Close'].rolling(window=20).mean()\n",
    "df['STD_20'] = df['Close'].rolling(window=20).std()\n",
    "df['Upper_Calc'] = df['SMA_20'] + (2 * df['STD_20'])\n",
    "df['Lower_Calc'] = df['SMA_20'] - (2 * df['STD_20'])\n",
    "df[['Date','Bollinger_Upper','Upper_Calc','Bollinger_Lower','Lower_Calc']].head()"
   ]
  },
  {
   "cell_type": "markdown",
   "id": "fcb9637f-6551-4181-b0bf-073f35605585",
   "metadata": {},
   "source": [
    "14. Is Sentiment_Score standardized (between -1 and 1)? "
   ]
  },
  {
   "cell_type": "code",
   "execution_count": 24,
   "id": "8f7d698c-4132-4508-b3d2-c2521c3679d0",
   "metadata": {},
   "outputs": [
    {
     "data": {
      "text/plain": [
       "np.float64(0.001428623232821714)"
      ]
     },
     "execution_count": 24,
     "metadata": {},
     "output_type": "execute_result"
    }
   ],
   "source": [
    "df['Sentiment_Score'].mean()"
   ]
  },
  {
   "cell_type": "code",
   "execution_count": 25,
   "id": "50d38f3d-54fe-48b0-9cc5-4fba400c9683",
   "metadata": {},
   "outputs": [
    {
     "data": {
      "text/plain": [
       "np.float64(0.9999661752348248)"
      ]
     },
     "execution_count": 25,
     "metadata": {},
     "output_type": "execute_result"
    }
   ],
   "source": [
    "df['Sentiment_Score'].max()"
   ]
  },
  {
   "cell_type": "markdown",
   "id": "1ebafbce-5fe5-42da-9dcb-d435163fab61",
   "metadata": {},
   "source": [
    "15.  What is the average trading volume? "
   ]
  },
  {
   "cell_type": "code",
   "execution_count": 26,
   "id": "69b38f2c-378f-457b-b55f-b84a6e33a1c7",
   "metadata": {},
   "outputs": [
    {
     "data": {
      "text/plain": [
       "np.float64(2547134.0776579473)"
      ]
     },
     "execution_count": 26,
     "metadata": {},
     "output_type": "execute_result"
    }
   ],
   "source": [
    "df['Volume'].mean()"
   ]
  },
  {
   "cell_type": "markdown",
   "id": "f3896cd7-0174-46d0-977a-b1b7f4341b02",
   "metadata": {},
   "source": [
    "16. What % of data has RSI > 70 (overbought zone)? "
   ]
  },
  {
   "cell_type": "code",
   "execution_count": 27,
   "id": "f2451da6-7b7d-4573-806e-d2ba93d56611",
   "metadata": {},
   "outputs": [
    {
     "data": {
      "text/plain": [
       "np.float64(24.814792746628534)"
      ]
     },
     "execution_count": 27,
     "metadata": {},
     "output_type": "execute_result"
    }
   ],
   "source": [
    "(df['RSI'] > 70).mean() * 100"
   ]
  },
  {
   "cell_type": "markdown",
   "id": "3d000ddf-480a-4370-89a1-4d69563aa130",
   "metadata": {},
   "source": [
    "17.  Check for monotonic date sequences. "
   ]
  },
  {
   "cell_type": "code",
   "execution_count": 28,
   "id": "b7e22965-9ccb-449b-abf0-b118f701938a",
   "metadata": {},
   "outputs": [
    {
     "data": {
      "text/plain": [
       "False"
      ]
     },
     "execution_count": 28,
     "metadata": {},
     "output_type": "execute_result"
    }
   ],
   "source": [
    "df['Date'].is_monotonic_increasing"
   ]
  },
  {
   "cell_type": "markdown",
   "id": "5b8126a7-b3a9-49da-8b4b-85e5a7edf96a",
   "metadata": {},
   "source": [
    "18. Detect anomalies using Z-Score. "
   ]
  },
  {
   "cell_type": "code",
   "execution_count": 32,
   "id": "153d5f37-fbea-4dc3-b7eb-3d3fb8c7fdd1",
   "metadata": {},
   "outputs": [
    {
     "data": {
      "text/html": [
       "<div>\n",
       "<style scoped>\n",
       "    .dataframe tbody tr th:only-of-type {\n",
       "        vertical-align: middle;\n",
       "    }\n",
       "\n",
       "    .dataframe tbody tr th {\n",
       "        vertical-align: top;\n",
       "    }\n",
       "\n",
       "    .dataframe thead th {\n",
       "        text-align: right;\n",
       "    }\n",
       "</style>\n",
       "<table border=\"1\" class=\"dataframe\">\n",
       "  <thead>\n",
       "    <tr style=\"text-align: right;\">\n",
       "      <th></th>\n",
       "      <th>Stock</th>\n",
       "      <th>Date</th>\n",
       "      <th>Open</th>\n",
       "      <th>High</th>\n",
       "      <th>Low</th>\n",
       "      <th>Close</th>\n",
       "      <th>Volume</th>\n",
       "      <th>SMA_10</th>\n",
       "      <th>RSI</th>\n",
       "      <th>MACD</th>\n",
       "      <th>Bollinger_Upper</th>\n",
       "      <th>Bollinger_Lower</th>\n",
       "      <th>GDP_Growth</th>\n",
       "      <th>Inflation_Rate</th>\n",
       "      <th>Interest_Rate</th>\n",
       "      <th>Sentiment_Score</th>\n",
       "      <th>Next_Close</th>\n",
       "      <th>Target</th>\n",
       "    </tr>\n",
       "  </thead>\n",
       "  <tbody>\n",
       "  </tbody>\n",
       "</table>\n",
       "</div>"
      ],
      "text/plain": [
       "Empty DataFrame\n",
       "Columns: [Stock, Date, Open, High, Low, Close, Volume, SMA_10, RSI, MACD, Bollinger_Upper, Bollinger_Lower, GDP_Growth, Inflation_Rate, Interest_Rate, Sentiment_Score, Next_Close, Target]\n",
       "Index: []"
      ]
     },
     "execution_count": 32,
     "metadata": {},
     "output_type": "execute_result"
    }
   ],
   "source": [
    "df[np.abs(stats.zscore(df['Close'])) > 3]"
   ]
  },
  {
   "cell_type": "markdown",
   "id": "072e3255-b6df-400a-bdda-6f19f314345e",
   "metadata": {},
   "source": [
    "19. Are the dates consecutive trading days (excluding weekends/holidays)? "
   ]
  },
  {
   "cell_type": "code",
   "execution_count": 35,
   "id": "9f7d82bb-337f-42b0-bceb-cf2e2b2204af",
   "metadata": {},
   "outputs": [
    {
     "data": {
      "text/plain": [
       "18570"
      ]
     },
     "execution_count": 35,
     "metadata": {},
     "output_type": "execute_result"
    }
   ],
   "source": [
    "ds = df['Date'].sort_values().reset_index(drop=True)\n",
    "missing_days = pd.bdate_range(start=ds.min(), end=ds.max()).difference(ds)\n",
    "len(missing_days)"
   ]
  },
  {
   "cell_type": "markdown",
   "id": "8e3a6bf5-c9c0-45fc-9757-b7d5827e3ecb",
   "metadata": {},
   "source": [
    "20. Are any Open, Close, High, or Low values zero or negative? "
   ]
  },
  {
   "cell_type": "code",
   "execution_count": 36,
   "id": "a2e36c20-5149-41fb-bd5f-ec52254c1a0a",
   "metadata": {},
   "outputs": [
    {
     "name": "stdout",
     "output_type": "stream",
     "text": [
      "Open zeros: 0 negatives: 0\n",
      "Close zeros: 0 negatives: 0\n",
      "High zeros: 0 negatives: 0\n",
      "Low zeros: 0 negatives: 0\n"
     ]
    }
   ],
   "source": [
    "cols = ['Open','Close','High','Low']\n",
    "for c in cols:\n",
    "    print(c, \"zeros:\", (df[c]==0).sum(), \"negatives:\", (df[c]<0).sum())"
   ]
  },
  {
   "cell_type": "code",
   "execution_count": 37,
   "id": "ec7dc80b-4a9a-45c6-a0aa-13a2f39314d8",
   "metadata": {},
   "outputs": [],
   "source": [
    "df.to_csv(\"Cleaned Stock Market.csv\", index=False)"
   ]
  }
 ],
 "metadata": {
  "kernelspec": {
   "display_name": "Python 3 (ipykernel)",
   "language": "python",
   "name": "python3"
  },
  "language_info": {
   "codemirror_mode": {
    "name": "ipython",
    "version": 3
   },
   "file_extension": ".py",
   "mimetype": "text/x-python",
   "name": "python",
   "nbconvert_exporter": "python",
   "pygments_lexer": "ipython3",
   "version": "3.10.11"
  }
 },
 "nbformat": 4,
 "nbformat_minor": 5
}
